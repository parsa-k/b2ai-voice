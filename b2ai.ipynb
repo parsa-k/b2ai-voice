{
 "cells": [
  {
   "cell_type": "code",
   "execution_count": 1,
   "metadata": {},
   "outputs": [
    {
     "name": "stdout",
     "output_type": "stream",
     "text": [
      "hi\n"
     ]
    }
   ],
   "source": [
    "print(\"hi\")"
   ]
  },
  {
   "cell_type": "code",
   "execution_count": 7,
   "metadata": {},
   "outputs": [
    {
     "ename": "IndexError",
     "evalue": "list index out of range",
     "output_type": "error",
     "traceback": [
      "\u001b[0;31m---------------------------------------------------------------------------\u001b[0m",
      "\u001b[0;31mIndexError\u001b[0m                                Traceback (most recent call last)",
      "Cell \u001b[0;32mIn[7], line 50\u001b[0m\n\u001b[1;32m     47\u001b[0m datasets \u001b[38;5;241m=\u001b[39m process_wav_files(directory)\n\u001b[1;32m     49\u001b[0m \u001b[38;5;66;03m# Print the dataset of the first file for demonstration\u001b[39;00m\n\u001b[0;32m---> 50\u001b[0m first_file \u001b[38;5;241m=\u001b[39m \u001b[38;5;28;43mlist\u001b[39;49m\u001b[43m(\u001b[49m\u001b[43mdatasets\u001b[49m\u001b[38;5;241;43m.\u001b[39;49m\u001b[43mkeys\u001b[49m\u001b[43m(\u001b[49m\u001b[43m)\u001b[49m\u001b[43m)\u001b[49m\u001b[43m[\u001b[49m\u001b[38;5;241;43m0\u001b[39;49m\u001b[43m]\u001b[49m\n\u001b[1;32m     51\u001b[0m \u001b[38;5;28mprint\u001b[39m(\u001b[38;5;124mf\u001b[39m\u001b[38;5;124m\"\u001b[39m\u001b[38;5;124mDataset for \u001b[39m\u001b[38;5;132;01m{\u001b[39;00mfirst_file\u001b[38;5;132;01m}\u001b[39;00m\u001b[38;5;124m:\u001b[39m\u001b[38;5;124m\"\u001b[39m)\n\u001b[1;32m     52\u001b[0m \u001b[38;5;28mprint\u001b[39m(datasets[first_file]\u001b[38;5;241m.\u001b[39mhead())\n",
      "\u001b[0;31mIndexError\u001b[0m: list index out of range"
     ]
    }
   ],
   "source": [
    "import os\n",
    "import glob\n",
    "import wave\n",
    "import numpy as np\n",
    "import pandas as pd\n",
    "\n",
    "# Function to read a .wav file and return the audio data and frame rate\n",
    "def read_wav_file(file_path):\n",
    "    with wave.open(file_path, 'rb') as wf:\n",
    "        n_channels = wf.getnchannels()\n",
    "        sampwidth = wf.getsampwidth()\n",
    "        framerate = wf.getframerate()\n",
    "        n_frames = wf.getnframes()\n",
    "        \n",
    "        audio_data = wf.readframes(n_frames)\n",
    "        audio_array = np.frombuffer(audio_data, dtype=np.int16)\n",
    "        \n",
    "        if n_channels > 1:\n",
    "            audio_array = np.reshape(audio_array, (-1, n_channels))\n",
    "        \n",
    "        return audio_array, framerate\n",
    "\n",
    "# Function to create a dataset from audio array\n",
    "def create_audio_dataset(audio_array, framerate):\n",
    "    time = np.arange(0, len(audio_array)) / framerate\n",
    "    dataset = pd.DataFrame({\n",
    "        'Time': time,\n",
    "        'Amplitude': audio_array\n",
    "    })\n",
    "    return dataset\n",
    "\n",
    "# Function to process all .wav files in a directory\n",
    "def process_wav_files(directory):\n",
    "    wav_files = glob.glob(os.path.join(directory, '*.wav'))\n",
    "    datasets = {}\n",
    "\n",
    "    for file_path in wav_files:\n",
    "        file_name = os.path.basename(file_path)\n",
    "        audio_array, framerate = read_wav_file(file_path)\n",
    "        dataset = create_audio_dataset(audio_array, framerate)\n",
    "        datasets[file_name] = dataset\n",
    "    \n",
    "    return datasets\n",
    "\n",
    "# Example usage\n",
    "directory = 'G:\\bridge2ai\\bids_with_sensitive_recordings\\sub-0e2df8b3-a93f-4982-a82c-d96a5c64d153\\ses-461EA3E8-4477-4F97-B091-D21F4006B2FC\\audio'\n",
    "datasets = process_wav_files(directory)\n",
    "\n",
    "# Print the dataset of the first file for demonstration\n",
    "first_file = list(datasets.keys())[0]\n",
    "print(f\"Dataset for {first_file}:\")\n",
    "print(datasets[first_file].head())\n"
   ]
  },
  {
   "cell_type": "code",
   "execution_count": null,
   "metadata": {},
   "outputs": [],
   "source": []
  }
 ],
 "metadata": {
  "kernelspec": {
   "display_name": "Python 3",
   "language": "python",
   "name": "python3"
  },
  "language_info": {
   "codemirror_mode": {
    "name": "ipython",
    "version": 3
   },
   "file_extension": ".py",
   "mimetype": "text/x-python",
   "name": "python",
   "nbconvert_exporter": "python",
   "pygments_lexer": "ipython3",
   "version": "3.1.-1"
  }
 },
 "nbformat": 4,
 "nbformat_minor": 2
}
